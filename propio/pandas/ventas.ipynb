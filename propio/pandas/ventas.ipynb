{
 "cells": [
  {
   "cell_type": "code",
   "execution_count": 25,
   "outputs": [],
   "source": [
    "import pandas as pd"
   ],
   "metadata": {
    "collapsed": false,
    "pycharm": {
     "name": "#%%\n"
    }
   }
  },
  {
   "cell_type": "code",
   "execution_count": 26,
   "outputs": [],
   "source": [
    "import os"
   ],
   "metadata": {
    "collapsed": false,
    "pycharm": {
     "name": "#%%\n"
    }
   }
  },
  {
   "cell_type": "code",
   "execution_count": 27,
   "outputs": [
    {
     "data": {
      "text/plain": "['A Comedy of Errors.csv',\n 'A Midsummer nights dream.csv',\n 'A Winters Tale.csv',\n 'Alls well that ends well.csv',\n 'Antony and Cleopatra.csv',\n 'As you like it.csv',\n 'Coriolanus.csv',\n 'Cymbeline.csv',\n 'Hamlet.csv',\n 'Henry IV.csv',\n 'Henry V.csv',\n 'Henry VI Part 1.csv',\n 'Henry VI Part 2.csv',\n 'Henry VI Part 3.csv',\n 'Henry VIII.csv',\n 'Julius Caesar.csv',\n 'King John.csv',\n 'King Lear.csv',\n 'Loves Labours Lost.csv',\n 'macbeth.csv',\n 'Measure for measure.csv',\n 'Merchant of Venice.csv',\n 'Merry Wives of Windsor.csv',\n 'Much Ado about nothing.csv',\n 'Othello.csv',\n 'Pericles.csv',\n 'Richard II.csv',\n 'Richard III.csv',\n 'Romeo and Juliet.csv',\n 'Taming of the Shrew.csv',\n 'The Tempest.csv',\n 'Timon of Athens.csv',\n 'Titus Andronicus.csv',\n 'Troilus and Cressida.csv',\n 'Twelfth Night.csv',\n 'Two Gentlemen of Verona.csv']"
     },
     "execution_count": 27,
     "metadata": {},
     "output_type": "execute_result"
    }
   ],
   "source": [
    "os.listdir(\"ventas_comercial\")"
   ],
   "metadata": {
    "collapsed": false,
    "pycharm": {
     "name": "#%%\n"
    }
   }
  },
  {
   "cell_type": "code",
   "execution_count": 28,
   "outputs": [],
   "source": [
    "path = \"ventas_comercial\""
   ],
   "metadata": {
    "collapsed": false,
    "pycharm": {
     "name": "#%%\n"
    }
   }
  },
  {
   "cell_type": "code",
   "execution_count": 29,
   "outputs": [],
   "source": [
    "files = [os.path.join(path, file) for file in os.listdir(path)]"
   ],
   "metadata": {
    "collapsed": false,
    "pycharm": {
     "name": "#%%\n"
    }
   }
  },
  {
   "cell_type": "code",
   "execution_count": 30,
   "outputs": [
    {
     "name": "stdout",
     "output_type": "stream",
     "text": [
      "['ventas_comercial\\\\A Comedy of Errors.csv', 'ventas_comercial\\\\A Midsummer nights dream.csv', 'ventas_comercial\\\\A Winters Tale.csv', 'ventas_comercial\\\\Alls well that ends well.csv', 'ventas_comercial\\\\Antony and Cleopatra.csv', 'ventas_comercial\\\\As you like it.csv', 'ventas_comercial\\\\Coriolanus.csv', 'ventas_comercial\\\\Cymbeline.csv', 'ventas_comercial\\\\Hamlet.csv', 'ventas_comercial\\\\Henry IV.csv', 'ventas_comercial\\\\Henry V.csv', 'ventas_comercial\\\\Henry VI Part 1.csv', 'ventas_comercial\\\\Henry VI Part 2.csv', 'ventas_comercial\\\\Henry VI Part 3.csv', 'ventas_comercial\\\\Henry VIII.csv', 'ventas_comercial\\\\Julius Caesar.csv', 'ventas_comercial\\\\King John.csv', 'ventas_comercial\\\\King Lear.csv', 'ventas_comercial\\\\Loves Labours Lost.csv', 'ventas_comercial\\\\macbeth.csv', 'ventas_comercial\\\\Measure for measure.csv', 'ventas_comercial\\\\Merchant of Venice.csv', 'ventas_comercial\\\\Merry Wives of Windsor.csv', 'ventas_comercial\\\\Much Ado about nothing.csv', 'ventas_comercial\\\\Othello.csv', 'ventas_comercial\\\\Pericles.csv', 'ventas_comercial\\\\Richard II.csv', 'ventas_comercial\\\\Richard III.csv', 'ventas_comercial\\\\Romeo and Juliet.csv', 'ventas_comercial\\\\Taming of the Shrew.csv', 'ventas_comercial\\\\The Tempest.csv', 'ventas_comercial\\\\Timon of Athens.csv', 'ventas_comercial\\\\Titus Andronicus.csv', 'ventas_comercial\\\\Troilus and Cressida.csv', 'ventas_comercial\\\\Twelfth Night.csv', 'ventas_comercial\\\\Two Gentlemen of Verona.csv']\n"
     ]
    }
   ],
   "source": [
    "print(files)"
   ],
   "metadata": {
    "collapsed": false,
    "pycharm": {
     "name": "#%%\n"
    }
   }
  },
  {
   "cell_type": "code",
   "execution_count": 31,
   "outputs": [],
   "source": [
    "df = pd.concat(map(pd.read_csv, files), ignore_index=True)"
   ],
   "metadata": {
    "collapsed": false,
    "pycharm": {
     "name": "#%%\n"
    }
   }
  },
  {
   "cell_type": "code",
   "execution_count": 32,
   "outputs": [
    {
     "name": "stdout",
     "output_type": "stream",
     "text": [
      "        Unnamed: 0  Dataline                     Play  PlayerLinenumber  \\\n",
      "0            22427     22428       A Comedy of Errors             132.0   \n",
      "1            22428     22429       A Comedy of Errors             132.0   \n",
      "2            22429     22430       A Comedy of Errors             132.0   \n",
      "3            22430     22431       A Comedy of Errors               1.0   \n",
      "4            22431     22432       A Comedy of Errors               1.0   \n",
      "...            ...       ...                      ...               ...   \n",
      "111391      107902    107903  Two Gentlemen of Verona              52.0   \n",
      "111392      107903    107904  Two Gentlemen of Verona              52.0   \n",
      "111393      107904    107905  Two Gentlemen of Verona              52.0   \n",
      "111394      107905    107906  Two Gentlemen of Verona              52.0   \n",
      "111395      107906    107907  Two Gentlemen of Verona              52.0   \n",
      "\n",
      "       ActSceneLine           Player  \\\n",
      "0               NaN  OCTAVIUS CAESAR   \n",
      "1               NaN  OCTAVIUS CAESAR   \n",
      "2               NaN  OCTAVIUS CAESAR   \n",
      "3             1.1.1           AEGEON   \n",
      "4             1.1.2           AEGEON   \n",
      "...             ...              ...   \n",
      "111391      5.4.177        VALENTINE   \n",
      "111392      5.4.178        VALENTINE   \n",
      "111393      5.4.179        VALENTINE   \n",
      "111394      5.4.180        VALENTINE   \n",
      "111395          NaN        VALENTINE   \n",
      "\n",
      "                                               PlayerLine  \n",
      "0                                                   ACT I  \n",
      "1               SCENE I. A hall in DUKE SOLINUS'S palace.  \n",
      "2       Enter DUKE SOLINUS, AEGEON, Gaoler, Officers, ...  \n",
      "3                    Proceed, Solinus, to procure my fall  \n",
      "4              And by the doom of death end woes and all.  \n",
      "...                                                   ...  \n",
      "111391       Come, Proteus, 'tis your penance but to hear  \n",
      "111392                The story of your loves discovered:  \n",
      "111393     That done, our day of marriage shall be yours,  \n",
      "111394        One feast, one house, one mutual happiness.  \n",
      "111395                                             Exeunt  \n",
      "\n",
      "[111396 rows x 7 columns]\n"
     ]
    }
   ],
   "source": [
    "print(df)"
   ],
   "metadata": {
    "collapsed": false,
    "pycharm": {
     "name": "#%%\n"
    }
   }
  },
  {
   "cell_type": "code",
   "execution_count": 33,
   "outputs": [
    {
     "data": {
      "text/plain": "   Unnamed: 0  Dataline                Play  PlayerLinenumber ActSceneLine  \\\n0       22427     22428  A Comedy of Errors             132.0          NaN   \n1       22428     22429  A Comedy of Errors             132.0          NaN   \n2       22429     22430  A Comedy of Errors             132.0          NaN   \n3       22430     22431  A Comedy of Errors               1.0        1.1.1   \n4       22431     22432  A Comedy of Errors               1.0        1.1.2   \n\n            Player                                         PlayerLine  \n0  OCTAVIUS CAESAR                                              ACT I  \n1  OCTAVIUS CAESAR          SCENE I. A hall in DUKE SOLINUS'S palace.  \n2  OCTAVIUS CAESAR  Enter DUKE SOLINUS, AEGEON, Gaoler, Officers, ...  \n3           AEGEON               Proceed, Solinus, to procure my fall  \n4           AEGEON         And by the doom of death end woes and all.  ",
      "text/html": "<div>\n<style scoped>\n    .dataframe tbody tr th:only-of-type {\n        vertical-align: middle;\n    }\n\n    .dataframe tbody tr th {\n        vertical-align: top;\n    }\n\n    .dataframe thead th {\n        text-align: right;\n    }\n</style>\n<table border=\"1\" class=\"dataframe\">\n  <thead>\n    <tr style=\"text-align: right;\">\n      <th></th>\n      <th>Unnamed: 0</th>\n      <th>Dataline</th>\n      <th>Play</th>\n      <th>PlayerLinenumber</th>\n      <th>ActSceneLine</th>\n      <th>Player</th>\n      <th>PlayerLine</th>\n    </tr>\n  </thead>\n  <tbody>\n    <tr>\n      <th>0</th>\n      <td>22427</td>\n      <td>22428</td>\n      <td>A Comedy of Errors</td>\n      <td>132.0</td>\n      <td>NaN</td>\n      <td>OCTAVIUS CAESAR</td>\n      <td>ACT I</td>\n    </tr>\n    <tr>\n      <th>1</th>\n      <td>22428</td>\n      <td>22429</td>\n      <td>A Comedy of Errors</td>\n      <td>132.0</td>\n      <td>NaN</td>\n      <td>OCTAVIUS CAESAR</td>\n      <td>SCENE I. A hall in DUKE SOLINUS'S palace.</td>\n    </tr>\n    <tr>\n      <th>2</th>\n      <td>22429</td>\n      <td>22430</td>\n      <td>A Comedy of Errors</td>\n      <td>132.0</td>\n      <td>NaN</td>\n      <td>OCTAVIUS CAESAR</td>\n      <td>Enter DUKE SOLINUS, AEGEON, Gaoler, Officers, ...</td>\n    </tr>\n    <tr>\n      <th>3</th>\n      <td>22430</td>\n      <td>22431</td>\n      <td>A Comedy of Errors</td>\n      <td>1.0</td>\n      <td>1.1.1</td>\n      <td>AEGEON</td>\n      <td>Proceed, Solinus, to procure my fall</td>\n    </tr>\n    <tr>\n      <th>4</th>\n      <td>22431</td>\n      <td>22432</td>\n      <td>A Comedy of Errors</td>\n      <td>1.0</td>\n      <td>1.1.2</td>\n      <td>AEGEON</td>\n      <td>And by the doom of death end woes and all.</td>\n    </tr>\n  </tbody>\n</table>\n</div>"
     },
     "execution_count": 33,
     "metadata": {},
     "output_type": "execute_result"
    }
   ],
   "source": [
    "df.head()"
   ],
   "metadata": {
    "collapsed": false,
    "pycharm": {
     "name": "#%%\n"
    }
   }
  },
  {
   "cell_type": "code",
   "execution_count": 34,
   "outputs": [
    {
     "data": {
      "text/plain": "111396"
     },
     "execution_count": 34,
     "metadata": {},
     "output_type": "execute_result"
    }
   ],
   "source": [
    "len(df)"
   ],
   "metadata": {
    "collapsed": false,
    "pycharm": {
     "name": "#%%\n"
    }
   }
  },
  {
   "cell_type": "code",
   "execution_count": 35,
   "outputs": [],
   "source": [
    "filtrada = df.dropna()"
   ],
   "metadata": {
    "collapsed": false,
    "pycharm": {
     "name": "#%%\n"
    }
   }
  },
  {
   "cell_type": "code",
   "execution_count": 36,
   "outputs": [
    {
     "data": {
      "text/plain": "105152"
     },
     "execution_count": 36,
     "metadata": {},
     "output_type": "execute_result"
    }
   ],
   "source": [
    "len(filtrada)"
   ],
   "metadata": {
    "collapsed": false,
    "pycharm": {
     "name": "#%%\n"
    }
   }
  },
  {
   "cell_type": "code",
   "execution_count": 37,
   "outputs": [
    {
     "data": {
      "text/plain": "105152"
     },
     "execution_count": 37,
     "metadata": {},
     "output_type": "execute_result"
    }
   ],
   "source": [
    "len(filtrada.drop_duplicates())"
   ],
   "metadata": {
    "collapsed": false,
    "pycharm": {
     "name": "#%%\n"
    }
   }
  },
  {
   "cell_type": "code",
   "execution_count": 38,
   "outputs": [
    {
     "data": {
      "text/plain": "6244"
     },
     "execution_count": 38,
     "metadata": {},
     "output_type": "execute_result"
    }
   ],
   "source": [
    "len(df)-len(filtrada)"
   ],
   "metadata": {
    "collapsed": false,
    "pycharm": {
     "name": "#%%\n"
    }
   }
  },
  {
   "cell_type": "code",
   "execution_count": 41,
   "outputs": [
    {
     "data": {
      "text/plain": "7"
     },
     "execution_count": 41,
     "metadata": {},
     "output_type": "execute_result"
    }
   ],
   "source": [
    "len(filtrada.columns)"
   ],
   "metadata": {
    "collapsed": false,
    "pycharm": {
     "name": "#%%\n"
    }
   }
  },
  {
   "cell_type": "code",
   "execution_count": 42,
   "outputs": [
    {
     "data": {
      "text/plain": "        Unnamed: 0  Dataline                     Play  PlayerLinenumber  \\\n111390      107901    107902  Two Gentlemen of Verona              52.0   \n111391      107902    107903  Two Gentlemen of Verona              52.0   \n111392      107903    107904  Two Gentlemen of Verona              52.0   \n111393      107904    107905  Two Gentlemen of Verona              52.0   \n111394      107905    107906  Two Gentlemen of Verona              52.0   \n\n       ActSceneLine     Player                                      PlayerLine  \n111390      5.4.176  VALENTINE        That you will wonder what hath fortuned.  \n111391      5.4.177  VALENTINE    Come, Proteus, 'tis your penance but to hear  \n111392      5.4.178  VALENTINE             The story of your loves discovered:  \n111393      5.4.179  VALENTINE  That done, our day of marriage shall be yours,  \n111394      5.4.180  VALENTINE     One feast, one house, one mutual happiness.  ",
      "text/html": "<div>\n<style scoped>\n    .dataframe tbody tr th:only-of-type {\n        vertical-align: middle;\n    }\n\n    .dataframe tbody tr th {\n        vertical-align: top;\n    }\n\n    .dataframe thead th {\n        text-align: right;\n    }\n</style>\n<table border=\"1\" class=\"dataframe\">\n  <thead>\n    <tr style=\"text-align: right;\">\n      <th></th>\n      <th>Unnamed: 0</th>\n      <th>Dataline</th>\n      <th>Play</th>\n      <th>PlayerLinenumber</th>\n      <th>ActSceneLine</th>\n      <th>Player</th>\n      <th>PlayerLine</th>\n    </tr>\n  </thead>\n  <tbody>\n    <tr>\n      <th>111390</th>\n      <td>107901</td>\n      <td>107902</td>\n      <td>Two Gentlemen of Verona</td>\n      <td>52.0</td>\n      <td>5.4.176</td>\n      <td>VALENTINE</td>\n      <td>That you will wonder what hath fortuned.</td>\n    </tr>\n    <tr>\n      <th>111391</th>\n      <td>107902</td>\n      <td>107903</td>\n      <td>Two Gentlemen of Verona</td>\n      <td>52.0</td>\n      <td>5.4.177</td>\n      <td>VALENTINE</td>\n      <td>Come, Proteus, 'tis your penance but to hear</td>\n    </tr>\n    <tr>\n      <th>111392</th>\n      <td>107903</td>\n      <td>107904</td>\n      <td>Two Gentlemen of Verona</td>\n      <td>52.0</td>\n      <td>5.4.178</td>\n      <td>VALENTINE</td>\n      <td>The story of your loves discovered:</td>\n    </tr>\n    <tr>\n      <th>111393</th>\n      <td>107904</td>\n      <td>107905</td>\n      <td>Two Gentlemen of Verona</td>\n      <td>52.0</td>\n      <td>5.4.179</td>\n      <td>VALENTINE</td>\n      <td>That done, our day of marriage shall be yours,</td>\n    </tr>\n    <tr>\n      <th>111394</th>\n      <td>107905</td>\n      <td>107906</td>\n      <td>Two Gentlemen of Verona</td>\n      <td>52.0</td>\n      <td>5.4.180</td>\n      <td>VALENTINE</td>\n      <td>One feast, one house, one mutual happiness.</td>\n    </tr>\n  </tbody>\n</table>\n</div>"
     },
     "execution_count": 42,
     "metadata": {},
     "output_type": "execute_result"
    }
   ],
   "source": [
    "filtrada.tail()"
   ],
   "metadata": {
    "collapsed": false,
    "pycharm": {
     "name": "#%%\n"
    }
   }
  },
  {
   "cell_type": "code",
   "execution_count": 43,
   "outputs": [
    {
     "data": {
      "text/plain": "36"
     },
     "execution_count": 43,
     "metadata": {},
     "output_type": "execute_result"
    }
   ],
   "source": [
    "len(os.listdir(\"ventas_comercial\"))"
   ],
   "metadata": {
    "collapsed": false,
    "pycharm": {
     "name": "#%%\n"
    }
   }
  },
  {
   "cell_type": "code",
   "execution_count": 44,
   "outputs": [
    {
     "data": {
      "text/plain": "       Unnamed: 0  Dataline      Play  PlayerLinenumber ActSceneLine Player  \\\n81174       77685     77686  Pericles              14.0      4.3.103  GOWER   \n\n                                              PlayerLine  \n81174  Wherefore she does, and swears she'll never st...  ",
      "text/html": "<div>\n<style scoped>\n    .dataframe tbody tr th:only-of-type {\n        vertical-align: middle;\n    }\n\n    .dataframe tbody tr th {\n        vertical-align: top;\n    }\n\n    .dataframe thead th {\n        text-align: right;\n    }\n</style>\n<table border=\"1\" class=\"dataframe\">\n  <thead>\n    <tr style=\"text-align: right;\">\n      <th></th>\n      <th>Unnamed: 0</th>\n      <th>Dataline</th>\n      <th>Play</th>\n      <th>PlayerLinenumber</th>\n      <th>ActSceneLine</th>\n      <th>Player</th>\n      <th>PlayerLine</th>\n    </tr>\n  </thead>\n  <tbody>\n    <tr>\n      <th>81174</th>\n      <td>77685</td>\n      <td>77686</td>\n      <td>Pericles</td>\n      <td>14.0</td>\n      <td>4.3.103</td>\n      <td>GOWER</td>\n      <td>Wherefore she does, and swears she'll never st...</td>\n    </tr>\n  </tbody>\n</table>\n</div>"
     },
     "execution_count": 44,
     "metadata": {},
     "output_type": "execute_result"
    }
   ],
   "source": [
    "filtrada.sample()"
   ],
   "metadata": {
    "collapsed": false,
    "pycharm": {
     "name": "#%%\n"
    }
   }
  },
  {
   "cell_type": "code",
   "execution_count": 45,
   "outputs": [
    {
     "data": {
      "text/plain": "        Unnamed: 0  Dataline                     Play  PlayerLinenumber  \\\n92170        88681     88682      Taming of the Shrew              21.0   \n6363        109915    109916           A Winters Tale              21.0   \n64856        59067     59068      Measure for measure             100.0   \n110271      106782    106783  Two Gentlemen of Verona              35.0   \n41773         8573      8574          Henry VI Part 2              53.0   \n\n       ActSceneLine   Player  \\\n92170        0.1.79     Lord   \n6363        4.4.138  PERDITA   \n64856       2.1.242   POMPEY   \n110271      3.1.148     DUKE   \n41773        4.2.93    CLERK   \n\n                                               PlayerLine  \n92170                      Now, fellows, you are welcome.  \n6363    For the flowers now, that frighted thou let'st...  \n64856    The valiant heart is not whipt out of his trade.  \n110271       Because myself do want my servants' fortune:  \n41773    Sir, I thank God, I have been so well brought up  ",
      "text/html": "<div>\n<style scoped>\n    .dataframe tbody tr th:only-of-type {\n        vertical-align: middle;\n    }\n\n    .dataframe tbody tr th {\n        vertical-align: top;\n    }\n\n    .dataframe thead th {\n        text-align: right;\n    }\n</style>\n<table border=\"1\" class=\"dataframe\">\n  <thead>\n    <tr style=\"text-align: right;\">\n      <th></th>\n      <th>Unnamed: 0</th>\n      <th>Dataline</th>\n      <th>Play</th>\n      <th>PlayerLinenumber</th>\n      <th>ActSceneLine</th>\n      <th>Player</th>\n      <th>PlayerLine</th>\n    </tr>\n  </thead>\n  <tbody>\n    <tr>\n      <th>92170</th>\n      <td>88681</td>\n      <td>88682</td>\n      <td>Taming of the Shrew</td>\n      <td>21.0</td>\n      <td>0.1.79</td>\n      <td>Lord</td>\n      <td>Now, fellows, you are welcome.</td>\n    </tr>\n    <tr>\n      <th>6363</th>\n      <td>109915</td>\n      <td>109916</td>\n      <td>A Winters Tale</td>\n      <td>21.0</td>\n      <td>4.4.138</td>\n      <td>PERDITA</td>\n      <td>For the flowers now, that frighted thou let'st...</td>\n    </tr>\n    <tr>\n      <th>64856</th>\n      <td>59067</td>\n      <td>59068</td>\n      <td>Measure for measure</td>\n      <td>100.0</td>\n      <td>2.1.242</td>\n      <td>POMPEY</td>\n      <td>The valiant heart is not whipt out of his trade.</td>\n    </tr>\n    <tr>\n      <th>110271</th>\n      <td>106782</td>\n      <td>106783</td>\n      <td>Two Gentlemen of Verona</td>\n      <td>35.0</td>\n      <td>3.1.148</td>\n      <td>DUKE</td>\n      <td>Because myself do want my servants' fortune:</td>\n    </tr>\n    <tr>\n      <th>41773</th>\n      <td>8573</td>\n      <td>8574</td>\n      <td>Henry VI Part 2</td>\n      <td>53.0</td>\n      <td>4.2.93</td>\n      <td>CLERK</td>\n      <td>Sir, I thank God, I have been so well brought up</td>\n    </tr>\n  </tbody>\n</table>\n</div>"
     },
     "execution_count": 45,
     "metadata": {},
     "output_type": "execute_result"
    }
   ],
   "source": [
    "filtrada.sample(5)"
   ],
   "metadata": {
    "collapsed": false,
    "pycharm": {
     "name": "#%%\n"
    }
   }
  },
  {
   "cell_type": "code",
   "execution_count": 46,
   "outputs": [
    {
     "data": {
      "text/plain": "Play\nHamlet                      4020\nCoriolanus                  3768\nCymbeline                   3756\nRichard III                 3705\nAntony and Cleopatra        3565\nOthello                     3563\nKing Lear                   3500\nTroilus and Cressida        3491\nA Winters Tale              3364\nHenry VIII                  3279\nHenry V                     3233\nHenry VI Part 2             3130\nRomeo and Juliet            3096\nHenry IV                    3044\nHenry VI Part 3             2939\nAlls well that ends well    2925\nLoves Labours Lost          2878\nMeasure for measure         2840\nRichard II                  2800\nHenry VI Part 1             2777\nAs you like it              2677\nMerchant of Venice          2665\nKing John                   2649\nTaming of the Shrew         2637\nMerry Wives of Windsor      2614\nJulius Caesar               2597\nMuch Ado about nothing      2584\nTitus Andronicus            2559\nTimon of Athens             2500\nTwelfth Night               2483\nPericles                    2472\nmacbeth                     2390\nThe Tempest                 2289\nTwo Gentlemen of Verona     2234\nA Midsummer nights dream    2162\nA Comedy of Errors          1967\ndtype: int64"
     },
     "execution_count": 46,
     "metadata": {},
     "output_type": "execute_result"
    }
   ],
   "source": [
    "filtrada.value_counts(\"Play\")"
   ],
   "metadata": {
    "collapsed": false,
    "pycharm": {
     "name": "#%%\n"
    }
   }
  },
  {
   "cell_type": "code",
   "execution_count": 47,
   "outputs": [
    {
     "data": {
      "text/plain": "4020"
     },
     "execution_count": 47,
     "metadata": {},
     "output_type": "execute_result"
    }
   ],
   "source": [
    "filtrada.value_counts(\"Play\").max()"
   ],
   "metadata": {
    "collapsed": false,
    "pycharm": {
     "name": "#%%\n"
    }
   }
  },
  {
   "cell_type": "code",
   "execution_count": 49,
   "outputs": [
    {
     "data": {
      "text/plain": "Player\nGLOUCESTER       1811\nHAMLET           1503\nIAGO             1101\nFALSTAFF         1053\nKING HENRY V     1029\n                 ... \nBoth Citizens       1\nHERBERT             1\nHERNIA              1\nVAUGHAN             1\nA Lord              1\nLength: 934, dtype: int64"
     },
     "execution_count": 49,
     "metadata": {},
     "output_type": "execute_result"
    }
   ],
   "source": [
    "filtrada.value_counts(\"Player\")"
   ],
   "metadata": {
    "collapsed": false,
    "pycharm": {
     "name": "#%%\n"
    }
   }
  },
  {
   "cell_type": "code",
   "execution_count": 50,
   "outputs": [
    {
     "data": {
      "text/plain": "934"
     },
     "execution_count": 50,
     "metadata": {},
     "output_type": "execute_result"
    }
   ],
   "source": [
    "len(filtrada.value_counts(\"Player\"))"
   ],
   "metadata": {
    "collapsed": false,
    "pycharm": {
     "name": "#%%\n"
    }
   }
  },
  {
   "cell_type": "code",
   "execution_count": null,
   "outputs": [],
   "source": [],
   "metadata": {
    "collapsed": false,
    "pycharm": {
     "name": "#%%\n"
    }
   }
  }
 ],
 "metadata": {
  "kernelspec": {
   "display_name": "Python 3",
   "language": "python",
   "name": "python3"
  },
  "language_info": {
   "codemirror_mode": {
    "name": "ipython",
    "version": 2
   },
   "file_extension": ".py",
   "mimetype": "text/x-python",
   "name": "python",
   "nbconvert_exporter": "python",
   "pygments_lexer": "ipython2",
   "version": "2.7.6"
  }
 },
 "nbformat": 4,
 "nbformat_minor": 0
}