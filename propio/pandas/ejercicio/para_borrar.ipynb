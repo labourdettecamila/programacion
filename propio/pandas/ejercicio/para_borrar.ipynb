{
 "cells": [
  {
   "cell_type": "code",
   "execution_count": 1,
   "metadata": {
    "collapsed": true
   },
   "outputs": [],
   "source": [
    "import pandas as pd"
   ]
  },
  {
   "cell_type": "code",
   "execution_count": 2,
   "outputs": [],
   "source": [
    "path_file = \"para_borrar.tsv\""
   ],
   "metadata": {
    "collapsed": false,
    "pycharm": {
     "name": "#%%\n"
    }
   }
  },
  {
   "cell_type": "code",
   "execution_count": 3,
   "outputs": [],
   "source": [
    "df = pd.read_csv(path_file, delimiter=\"\\t\")"
   ],
   "metadata": {
    "collapsed": false,
    "pycharm": {
     "name": "#%%\n"
    }
   }
  },
  {
   "cell_type": "code",
   "execution_count": 4,
   "outputs": [
    {
     "name": "stdout",
     "output_type": "stream",
     "text": [
      "      Fecha de respuesta     id Edad  Customer Value  \\\n",
      "0          6/30/19 23:09      1   43             1.0   \n",
      "1          6/30/19 22:56      2   75             1.0   \n",
      "2          6/30/19 22:52      3   23             1.0   \n",
      "3          6/30/19 22:33      4   71             2.0   \n",
      "4          6/30/19 22:25      5   64             2.0   \n",
      "...                  ...    ...  ...             ...   \n",
      "35821        1/1/19 8:48  32233   63             2.0   \n",
      "35822        1/1/19 3:40  32234   35             2.0   \n",
      "35823        1/1/19 2:04  32235   41             2.0   \n",
      "35824        1/1/19 1:07  32236   66             1.0   \n",
      "35825        1/1/19 0:47  32237   54             1.0   \n",
      "\n",
      "       Probabilidad de Recomendación  \\\n",
      "0                               10.0   \n",
      "1                               10.0   \n",
      "2                               10.0   \n",
      "3                               10.0   \n",
      "4                                9.0   \n",
      "...                              ...   \n",
      "35821                           10.0   \n",
      "35822                            4.0   \n",
      "35823                           10.0   \n",
      "35824                           10.0   \n",
      "35825                            7.0   \n",
      "\n",
      "                                               ¿Por que?  \\\n",
      "0                         buen servicio y buena atención   \n",
      "1                        Eficiencia, amabilidad, rapidez   \n",
      "2                                         Todo excelente   \n",
      "3      Vienen enseguida y siempre me solucionan el pr...   \n",
      "4      Cumplió de acuerdo a mis expectativas, horario...   \n",
      "...                                                  ...   \n",
      "35821                                      buen servicio   \n",
      "35822  La falta de compromiso de parte del seguro por...   \n",
      "35823      Buena atención y rápida solución de problemas   \n",
      "35824     Persona muy eficiente,responsable y educado. ,   \n",
      "35825                            Es correcto el servicio   \n",
      "\n",
      "      Date of 1st Feedback Call Resultado del Primer contacto  \\\n",
      "0                           NaN                           NaN   \n",
      "1                           NaN                           NaN   \n",
      "2                           NaN                           NaN   \n",
      "3                           NaN                           NaN   \n",
      "4                           NaN                           NaN   \n",
      "...                         ...                           ...   \n",
      "35821                       NaN                           NaN   \n",
      "35822                02/01/2018                 No contactado   \n",
      "35823                       NaN                           NaN   \n",
      "35824                       NaN                           NaN   \n",
      "35825                       NaN                           NaN   \n",
      "\n",
      "                      Descripción detallada del contacto  \\\n",
      "0                                                    NaN   \n",
      "1                                                    NaN   \n",
      "2                                                    NaN   \n",
      "3                                                    NaN   \n",
      "4                                                    NaN   \n",
      "...                                                  ...   \n",
      "35821                                                NaN   \n",
      "35822  no es posible establecer contacto con la titul...   \n",
      "35823                                                NaN   \n",
      "35824                                                NaN   \n",
      "35825                                                NaN   \n",
      "\n",
      "      Fuiste capaz de resolver el inconveniente?  \\\n",
      "0                                            NaN   \n",
      "1                                            NaN   \n",
      "2                                            NaN   \n",
      "3                                            NaN   \n",
      "4                                            NaN   \n",
      "...                                          ...   \n",
      "35821                                        NaN   \n",
      "35822                                         No   \n",
      "35823                                        NaN   \n",
      "35824                                        NaN   \n",
      "35825                                        NaN   \n",
      "\n",
      "      El cliente se encontró satisfecho con el resultado?  \n",
      "0                                                    NaN   \n",
      "1                                                    NaN   \n",
      "2                                                    NaN   \n",
      "3                                                    NaN   \n",
      "4                                                    NaN   \n",
      "...                                                  ...   \n",
      "35821                                                NaN   \n",
      "35822                                                 No   \n",
      "35823                                                NaN   \n",
      "35824                                                NaN   \n",
      "35825                                                NaN   \n",
      "\n",
      "[35826 rows x 11 columns]\n"
     ]
    }
   ],
   "source": [
    "print(df)"
   ],
   "metadata": {
    "collapsed": false,
    "pycharm": {
     "name": "#%%\n"
    }
   }
  },
  {
   "cell_type": "code",
   "execution_count": 11,
   "outputs": [
    {
     "data": {
      "text/plain": "  Fecha de respuesta id Edad  Customer Value  Probabilidad de Recomendación  \\\n0      6/30/19 23:09  1   43             1.0                           10.0   \n1      6/30/19 22:56  2   75             1.0                           10.0   \n2      6/30/19 22:52  3   23             1.0                           10.0   \n3      6/30/19 22:33  4   71             2.0                           10.0   \n4      6/30/19 22:25  5   64             2.0                            9.0   \n\n                                           ¿Por que?  \\\n0                     buen servicio y buena atención   \n1                    Eficiencia, amabilidad, rapidez   \n2                                     Todo excelente   \n3  Vienen enseguida y siempre me solucionan el pr...   \n4  Cumplió de acuerdo a mis expectativas, horario...   \n\n  Date of 1st Feedback Call Resultado del Primer contacto  \\\n0                       NaN                           NaN   \n1                       NaN                           NaN   \n2                       NaN                           NaN   \n3                       NaN                           NaN   \n4                       NaN                           NaN   \n\n  Descripción detallada del contacto  \\\n0                                NaN   \n1                                NaN   \n2                                NaN   \n3                                NaN   \n4                                NaN   \n\n  Fuiste capaz de resolver el inconveniente?  \\\n0                                        NaN   \n1                                        NaN   \n2                                        NaN   \n3                                        NaN   \n4                                        NaN   \n\n  El cliente se encontró satisfecho con el resultado?  \n0                                                NaN   \n1                                                NaN   \n2                                                NaN   \n3                                                NaN   \n4                                                NaN   ",
      "text/html": "<div>\n<style scoped>\n    .dataframe tbody tr th:only-of-type {\n        vertical-align: middle;\n    }\n\n    .dataframe tbody tr th {\n        vertical-align: top;\n    }\n\n    .dataframe thead th {\n        text-align: right;\n    }\n</style>\n<table border=\"1\" class=\"dataframe\">\n  <thead>\n    <tr style=\"text-align: right;\">\n      <th></th>\n      <th>Fecha de respuesta</th>\n      <th>id</th>\n      <th>Edad</th>\n      <th>Customer Value</th>\n      <th>Probabilidad de Recomendación</th>\n      <th>¿Por que?</th>\n      <th>Date of 1st Feedback Call</th>\n      <th>Resultado del Primer contacto</th>\n      <th>Descripción detallada del contacto</th>\n      <th>Fuiste capaz de resolver el inconveniente?</th>\n      <th>El cliente se encontró satisfecho con el resultado?</th>\n    </tr>\n  </thead>\n  <tbody>\n    <tr>\n      <th>0</th>\n      <td>6/30/19 23:09</td>\n      <td>1</td>\n      <td>43</td>\n      <td>1.0</td>\n      <td>10.0</td>\n      <td>buen servicio y buena atención</td>\n      <td>NaN</td>\n      <td>NaN</td>\n      <td>NaN</td>\n      <td>NaN</td>\n      <td>NaN</td>\n    </tr>\n    <tr>\n      <th>1</th>\n      <td>6/30/19 22:56</td>\n      <td>2</td>\n      <td>75</td>\n      <td>1.0</td>\n      <td>10.0</td>\n      <td>Eficiencia, amabilidad, rapidez</td>\n      <td>NaN</td>\n      <td>NaN</td>\n      <td>NaN</td>\n      <td>NaN</td>\n      <td>NaN</td>\n    </tr>\n    <tr>\n      <th>2</th>\n      <td>6/30/19 22:52</td>\n      <td>3</td>\n      <td>23</td>\n      <td>1.0</td>\n      <td>10.0</td>\n      <td>Todo excelente</td>\n      <td>NaN</td>\n      <td>NaN</td>\n      <td>NaN</td>\n      <td>NaN</td>\n      <td>NaN</td>\n    </tr>\n    <tr>\n      <th>3</th>\n      <td>6/30/19 22:33</td>\n      <td>4</td>\n      <td>71</td>\n      <td>2.0</td>\n      <td>10.0</td>\n      <td>Vienen enseguida y siempre me solucionan el pr...</td>\n      <td>NaN</td>\n      <td>NaN</td>\n      <td>NaN</td>\n      <td>NaN</td>\n      <td>NaN</td>\n    </tr>\n    <tr>\n      <th>4</th>\n      <td>6/30/19 22:25</td>\n      <td>5</td>\n      <td>64</td>\n      <td>2.0</td>\n      <td>9.0</td>\n      <td>Cumplió de acuerdo a mis expectativas, horario...</td>\n      <td>NaN</td>\n      <td>NaN</td>\n      <td>NaN</td>\n      <td>NaN</td>\n      <td>NaN</td>\n    </tr>\n  </tbody>\n</table>\n</div>"
     },
     "execution_count": 11,
     "metadata": {},
     "output_type": "execute_result"
    }
   ],
   "source": [
    "df.head()"
   ],
   "metadata": {
    "collapsed": false,
    "pycharm": {
     "name": "#%%\n"
    }
   }
  },
  {
   "cell_type": "code",
   "execution_count": 12,
   "outputs": [
    {
     "data": {
      "text/plain": "35826"
     },
     "execution_count": 12,
     "metadata": {},
     "output_type": "execute_result"
    }
   ],
   "source": [
    "len(df)"
   ],
   "metadata": {
    "collapsed": false,
    "pycharm": {
     "name": "#%%\n"
    }
   }
  },
  {
   "cell_type": "code",
   "execution_count": 8,
   "outputs": [
    {
     "data": {
      "text/plain": "2437"
     },
     "execution_count": 8,
     "metadata": {},
     "output_type": "execute_result"
    }
   ],
   "source": [
    "len(df.dropna())"
   ],
   "metadata": {
    "collapsed": false,
    "pycharm": {
     "name": "#%%\n"
    }
   }
  },
  {
   "cell_type": "code",
   "execution_count": 13,
   "outputs": [],
   "source": [
    "filtro = df.dropna()"
   ],
   "metadata": {
    "collapsed": false,
    "pycharm": {
     "name": "#%%\n"
    }
   }
  },
  {
   "cell_type": "code",
   "execution_count": 14,
   "outputs": [
    {
     "name": "stdout",
     "output_type": "stream",
     "text": [
      "      Fecha de respuesta     id Edad  Customer Value  \\\n",
      "5          6/30/19 21:19      6   56             2.0   \n",
      "6          6/30/19 20:53      7   33             2.0   \n",
      "9          6/30/19 19:54     10   50             3.0   \n",
      "18         6/30/19 12:46     19   59             2.0   \n",
      "38         6/29/19 20:15     37   44             1.0   \n",
      "...                  ...    ...  ...             ...   \n",
      "35753       1/2/19 11:00  32167   43             2.0   \n",
      "35760       1/2/19 10:44  32174   25             2.0   \n",
      "35768       1/2/19 10:04  32181   47             1.0   \n",
      "35795       1/1/19 18:49  32207   52             2.0   \n",
      "35822        1/1/19 3:40  32234   35             2.0   \n",
      "\n",
      "       Probabilidad de Recomendación  \\\n",
      "5                                5.0   \n",
      "6                                5.0   \n",
      "9                                1.0   \n",
      "18                               6.0   \n",
      "38                               0.0   \n",
      "...                              ...   \n",
      "35753                            0.0   \n",
      "35760                            4.0   \n",
      "35768                            6.0   \n",
      "35795                            1.0   \n",
      "35822                            4.0   \n",
      "\n",
      "                                               ¿Por que?  \\\n",
      "5      Es alto el costo....he averiguado y una compañ...   \n",
      "6        No me cubren el estero original que me robaron.   \n",
      "9      NO ME CUBRIERON ROTURA DE PARABRISA CUANDO LA ...   \n",
      "18                          Costos superiores al mercado   \n",
      "38     cuatro veces me acerque a su oficina de adrogu...   \n",
      "...                                                  ...   \n",
      "35753  que el servicio fue burocratico, nunca llego, ...   \n",
      "35760  Muy mala.la.atencion telefónica.40 minutos par...   \n",
      "35768  Como podrán advertir en encuestas anteriores, ...   \n",
      "35795  No envian jamas la tarjeta de seguro , tuve q ...   \n",
      "35822  La falta de compromiso de parte del seguro por...   \n",
      "\n",
      "      Date of 1st Feedback Call Resultado del Primer contacto  \\\n",
      "5                    01/07/2019              Contacto exitoso   \n",
      "6                    01/07/2019                 Sin respuesta   \n",
      "9                         01/07              Contacto exitoso   \n",
      "18                        01/07              Contacto exitoso   \n",
      "38                   01/07/2019              Contacto exitoso   \n",
      "...                         ...                           ...   \n",
      "35753                02/01/2019                 No contactado   \n",
      "35760                     03-01                 Sin respuesta   \n",
      "35768                02/01/2019              Contacto exitoso   \n",
      "35795                02/01/2019                 No contactado   \n",
      "35822                02/01/2018                 No contactado   \n",
      "\n",
      "                      Descripción detallada del contacto  \\\n",
      "5      no logró comunicarse directamente, fue transfe...   \n",
      "6      El asegurado se manifiesta disconforme con la ...   \n",
      "9                         Reclama respuesta de siniestro   \n",
      "18                           Disconformidad precio (Sil)   \n",
      "38     Nos comunicamos al celular y atendió el esposo...   \n",
      "...                                                  ...   \n",
      "35753  no brindas mas datos que los brindado en la en...   \n",
      "35760  Aseg molesto por la demora en la atención tele...   \n",
      "35768         tuvo inconveniente con el seguro del hogar   \n",
      "35795                                                  -   \n",
      "35822  no es posible establecer contacto con la titul...   \n",
      "\n",
      "      Fuiste capaz de resolver el inconveniente?  \\\n",
      "5                                             Sí   \n",
      "6                                             Sí   \n",
      "9                                             Sí   \n",
      "18                                            No   \n",
      "38                                            Sí   \n",
      "...                                          ...   \n",
      "35753                                         No   \n",
      "35760                                         No   \n",
      "35768                                         Sí   \n",
      "35795                                         No   \n",
      "35822                                         No   \n",
      "\n",
      "      El cliente se encontró satisfecho con el resultado?  \n",
      "5                                                     Sí   \n",
      "6                                                     Sí   \n",
      "9                                                     Sí   \n",
      "18                                                    No   \n",
      "38                                                    Sí   \n",
      "...                                                  ...   \n",
      "35753                                                 No   \n",
      "35760                                                 No   \n",
      "35768                                                 Sí   \n",
      "35795                                                 No   \n",
      "35822                                                 No   \n",
      "\n",
      "[2437 rows x 11 columns]\n"
     ]
    }
   ],
   "source": [
    "print(filtro)"
   ],
   "metadata": {
    "collapsed": false,
    "pycharm": {
     "name": "#%%\n"
    }
   }
  },
  {
   "cell_type": "code",
   "execution_count": 16,
   "outputs": [
    {
     "data": {
      "text/plain": "   Fecha de respuesta  id Edad  Customer Value  Probabilidad de Recomendación  \\\n5       6/30/19 21:19   6   56             2.0                            5.0   \n6       6/30/19 20:53   7   33             2.0                            5.0   \n9       6/30/19 19:54  10   50             3.0                            1.0   \n18      6/30/19 12:46  19   59             2.0                            6.0   \n38      6/29/19 20:15  37   44             1.0                            0.0   \n\n                                            ¿Por que?  \\\n5   Es alto el costo....he averiguado y una compañ...   \n6     No me cubren el estero original que me robaron.   \n9   NO ME CUBRIERON ROTURA DE PARABRISA CUANDO LA ...   \n18                       Costos superiores al mercado   \n38  cuatro veces me acerque a su oficina de adrogu...   \n\n   Date of 1st Feedback Call Resultado del Primer contacto  \\\n5                 01/07/2019              Contacto exitoso   \n6                 01/07/2019                 Sin respuesta   \n9                      01/07              Contacto exitoso   \n18                     01/07              Contacto exitoso   \n38                01/07/2019              Contacto exitoso   \n\n                   Descripción detallada del contacto  \\\n5   no logró comunicarse directamente, fue transfe...   \n6   El asegurado se manifiesta disconforme con la ...   \n9                      Reclama respuesta de siniestro   \n18                        Disconformidad precio (Sil)   \n38  Nos comunicamos al celular y atendió el esposo...   \n\n   Fuiste capaz de resolver el inconveniente?  \\\n5                                          Sí   \n6                                          Sí   \n9                                          Sí   \n18                                         No   \n38                                         Sí   \n\n   El cliente se encontró satisfecho con el resultado?  \n5                                                  Sí   \n6                                                  Sí   \n9                                                  Sí   \n18                                                 No   \n38                                                 Sí   ",
      "text/html": "<div>\n<style scoped>\n    .dataframe tbody tr th:only-of-type {\n        vertical-align: middle;\n    }\n\n    .dataframe tbody tr th {\n        vertical-align: top;\n    }\n\n    .dataframe thead th {\n        text-align: right;\n    }\n</style>\n<table border=\"1\" class=\"dataframe\">\n  <thead>\n    <tr style=\"text-align: right;\">\n      <th></th>\n      <th>Fecha de respuesta</th>\n      <th>id</th>\n      <th>Edad</th>\n      <th>Customer Value</th>\n      <th>Probabilidad de Recomendación</th>\n      <th>¿Por que?</th>\n      <th>Date of 1st Feedback Call</th>\n      <th>Resultado del Primer contacto</th>\n      <th>Descripción detallada del contacto</th>\n      <th>Fuiste capaz de resolver el inconveniente?</th>\n      <th>El cliente se encontró satisfecho con el resultado?</th>\n    </tr>\n  </thead>\n  <tbody>\n    <tr>\n      <th>5</th>\n      <td>6/30/19 21:19</td>\n      <td>6</td>\n      <td>56</td>\n      <td>2.0</td>\n      <td>5.0</td>\n      <td>Es alto el costo....he averiguado y una compañ...</td>\n      <td>01/07/2019</td>\n      <td>Contacto exitoso</td>\n      <td>no logró comunicarse directamente, fue transfe...</td>\n      <td>Sí</td>\n      <td>Sí</td>\n    </tr>\n    <tr>\n      <th>6</th>\n      <td>6/30/19 20:53</td>\n      <td>7</td>\n      <td>33</td>\n      <td>2.0</td>\n      <td>5.0</td>\n      <td>No me cubren el estero original que me robaron.</td>\n      <td>01/07/2019</td>\n      <td>Sin respuesta</td>\n      <td>El asegurado se manifiesta disconforme con la ...</td>\n      <td>Sí</td>\n      <td>Sí</td>\n    </tr>\n    <tr>\n      <th>9</th>\n      <td>6/30/19 19:54</td>\n      <td>10</td>\n      <td>50</td>\n      <td>3.0</td>\n      <td>1.0</td>\n      <td>NO ME CUBRIERON ROTURA DE PARABRISA CUANDO LA ...</td>\n      <td>01/07</td>\n      <td>Contacto exitoso</td>\n      <td>Reclama respuesta de siniestro</td>\n      <td>Sí</td>\n      <td>Sí</td>\n    </tr>\n    <tr>\n      <th>18</th>\n      <td>6/30/19 12:46</td>\n      <td>19</td>\n      <td>59</td>\n      <td>2.0</td>\n      <td>6.0</td>\n      <td>Costos superiores al mercado</td>\n      <td>01/07</td>\n      <td>Contacto exitoso</td>\n      <td>Disconformidad precio (Sil)</td>\n      <td>No</td>\n      <td>No</td>\n    </tr>\n    <tr>\n      <th>38</th>\n      <td>6/29/19 20:15</td>\n      <td>37</td>\n      <td>44</td>\n      <td>1.0</td>\n      <td>0.0</td>\n      <td>cuatro veces me acerque a su oficina de adrogu...</td>\n      <td>01/07/2019</td>\n      <td>Contacto exitoso</td>\n      <td>Nos comunicamos al celular y atendió el esposo...</td>\n      <td>Sí</td>\n      <td>Sí</td>\n    </tr>\n  </tbody>\n</table>\n</div>"
     },
     "execution_count": 16,
     "metadata": {},
     "output_type": "execute_result"
    }
   ],
   "source": [
    "filtro.head()"
   ],
   "metadata": {
    "collapsed": false,
    "pycharm": {
     "name": "#%%\n"
    }
   }
  },
  {
   "cell_type": "code",
   "execution_count": 18,
   "outputs": [
    {
     "data": {
      "text/plain": "2437"
     },
     "execution_count": 18,
     "metadata": {},
     "output_type": "execute_result"
    }
   ],
   "source": [
    "len(filtro.drop_duplicates())"
   ],
   "metadata": {
    "collapsed": false,
    "pycharm": {
     "name": "#%%\n"
    }
   }
  },
  {
   "cell_type": "code",
   "execution_count": 19,
   "outputs": [
    {
     "data": {
      "text/plain": "Index(['Fecha de respuesta', 'id', 'Edad', 'Customer Value',\n       'Probabilidad de Recomendación', '¿Por que?',\n       'Date of 1st Feedback Call', 'Resultado del Primer contacto',\n       'Descripción detallada del contacto',\n       'Fuiste capaz de resolver el inconveniente?',\n       'El cliente se encontró satisfecho con el resultado?'],\n      dtype='object')"
     },
     "execution_count": 19,
     "metadata": {},
     "output_type": "execute_result"
    }
   ],
   "source": [
    "df.columns"
   ],
   "metadata": {
    "collapsed": false,
    "pycharm": {
     "name": "#%%\n"
    }
   }
  },
  {
   "cell_type": "code",
   "execution_count": 20,
   "outputs": [
    {
     "data": {
      "text/plain": "11"
     },
     "execution_count": 20,
     "metadata": {},
     "output_type": "execute_result"
    }
   ],
   "source": [
    "len(df.columns)"
   ],
   "metadata": {
    "collapsed": false,
    "pycharm": {
     "name": "#%%\n"
    }
   }
  },
  {
   "cell_type": "code",
   "execution_count": 21,
   "outputs": [
    {
     "data": {
      "text/plain": "33389"
     },
     "execution_count": 21,
     "metadata": {},
     "output_type": "execute_result"
    }
   ],
   "source": [
    "35826-2437"
   ],
   "metadata": {
    "collapsed": false,
    "pycharm": {
     "name": "#%%\n"
    }
   }
  },
  {
   "cell_type": "code",
   "execution_count": 48,
   "outputs": [
    {
     "data": {
      "text/plain": "5        56\n6        33\n9        50\n18       59\n38       44\n         ..\n35753    43\n35760    25\n35768    47\n35795    52\n35822    35\nName: Edad, Length: 2437, dtype: object"
     },
     "execution_count": 48,
     "metadata": {},
     "output_type": "execute_result"
    }
   ],
   "source": [
    "filtro[\"Edad\"]"
   ],
   "metadata": {
    "collapsed": false,
    "pycharm": {
     "name": "#%%\n"
    }
   }
  },
  {
   "cell_type": "code",
   "execution_count": 50,
   "outputs": [],
   "source": [
    "promedio_edad = filtro[\"Edad\"].mean()"
   ],
   "metadata": {
    "collapsed": false,
    "pycharm": {
     "name": "#%%\n"
    }
   }
  },
  {
   "cell_type": "code",
   "execution_count": 42,
   "outputs": [
    {
     "name": "stdout",
     "output_type": "stream",
     "text": [
      "inf\n"
     ]
    }
   ],
   "source": [
    "print(promedio_edad)"
   ],
   "metadata": {
    "collapsed": false,
    "pycharm": {
     "name": "#%%\n"
    }
   }
  },
  {
   "cell_type": "code",
   "execution_count": 56,
   "outputs": [],
   "source": [
    "promedio_value = df[\"Customer Value\"].mean()"
   ],
   "metadata": {
    "collapsed": false,
    "pycharm": {
     "name": "#%%\n"
    }
   }
  },
  {
   "cell_type": "code",
   "execution_count": 57,
   "outputs": [
    {
     "name": "stdout",
     "output_type": "stream",
     "text": [
      "1.6691542288557213\n"
     ]
    }
   ],
   "source": [
    "print(promedio_value)"
   ],
   "metadata": {
    "collapsed": false,
    "pycharm": {
     "name": "#%%\n"
    }
   }
  },
  {
   "cell_type": "code",
   "execution_count": 85,
   "outputs": [
    {
     "data": {
      "text/plain": "5        01/07/2019\n6        01/07/2019\n9             01/07\n16       01/07/2019\n18            01/07\n            ...    \n35761    02/01/2019\n35768    02/01/2019\n35795    02/01/2019\n35812    02/01/2019\n35822    02/01/2018\nName: Date of 1st Feedback Call, Length: 4333, dtype: object"
     },
     "execution_count": 85,
     "metadata": {},
     "output_type": "execute_result"
    }
   ],
   "source": [
    "df[\"Date of 1st Feedback Call\"].dropna()"
   ],
   "metadata": {
    "collapsed": false,
    "pycharm": {
     "name": "#%%\n"
    }
   }
  },
  {
   "cell_type": "code",
   "execution_count": 86,
   "outputs": [],
   "source": [
    "recibieron_llamado = len(df[\"Date of 1st Feedback Call\"].dropna())"
   ],
   "metadata": {
    "collapsed": false,
    "pycharm": {
     "name": "#%%\n"
    }
   }
  },
  {
   "cell_type": "code",
   "execution_count": 87,
   "outputs": [
    {
     "name": "stdout",
     "output_type": "stream",
     "text": [
      "4333\n"
     ]
    }
   ],
   "source": [
    "print(recibieron_llamado)"
   ],
   "metadata": {
    "collapsed": false,
    "pycharm": {
     "name": "#%%\n"
    }
   }
  },
  {
   "cell_type": "code",
   "execution_count": 88,
   "outputs": [],
   "source": [
    "porcentaje_recibio_llamado = recibieron_llamado*100/len(df)"
   ],
   "metadata": {
    "collapsed": false,
    "pycharm": {
     "name": "#%%\n"
    }
   }
  },
  {
   "cell_type": "code",
   "execution_count": 89,
   "outputs": [
    {
     "data": {
      "text/plain": "12.094568190699492"
     },
     "execution_count": 89,
     "metadata": {},
     "output_type": "execute_result"
    }
   ],
   "source": [
    "porcentaje_recibio_llamado"
   ],
   "metadata": {
    "collapsed": false,
    "pycharm": {
     "name": "#%%\n"
    }
   }
  },
  {
   "cell_type": "code",
   "execution_count": 98,
   "outputs": [],
   "source": [
    "contestaron = len(df[df[\"Resultado del Primer contacto\"]==\"Contacto exitoso\"])"
   ],
   "metadata": {
    "collapsed": false,
    "pycharm": {
     "name": "#%%\n"
    }
   }
  },
  {
   "cell_type": "code",
   "execution_count": 118,
   "outputs": [
    {
     "data": {
      "text/plain": "      Fecha de respuesta     id Edad  Customer Value  \\\n5          6/30/19 21:19      6   56             2.0   \n9          6/30/19 19:54     10   50             3.0   \n18         6/30/19 12:46     19   59             2.0   \n24         6/30/19 10:42     25   54             2.0   \n30         6/29/19 23:32     30   64             1.0   \n...                  ...    ...  ...             ...   \n35709       1/2/19 17:12  32132   30             2.0   \n35715       1/2/19 16:13  32138   32             2.0   \n35728       1/2/19 14:04  32149   65             2.0   \n35730       1/2/19 13:26  22777   56             2.0   \n35768       1/2/19 10:04  32181   47             1.0   \n\n       Probabilidad de Recomendación  \\\n5                                5.0   \n9                                1.0   \n18                               6.0   \n24                               0.0   \n30                               3.0   \n...                              ...   \n35709                            5.0   \n35715                            4.0   \n35728                            6.0   \n35730                            5.0   \n35768                            6.0   \n\n                                               ¿Por que?  \\\n5      Es alto el costo....he averiguado y una compañ...   \n9      NO ME CUBRIERON ROTURA DE PARABRISA CUANDO LA ...   \n18                          Costos superiores al mercado   \n24     la gente que atiende ante la denuncia de un si...   \n30     No intentaron reparar el inconveniente en el a...   \n...                                                  ...   \n35709      No tuve que usar los servicios de La Caja aún   \n35715  Me agregaron un seguro que me hicieron creer q...   \n35728  Sería más alta si el costo del seguro fuera má...   \n35730  nunca me mandan la renovación de la polisa   y...   \n35768  Como podrán advertir en encuestas anteriores, ...   \n\n      Date of 1st Feedback Call Resultado del Primer contacto  \\\n5                    01/07/2019              Contacto exitoso   \n9                         01/07              Contacto exitoso   \n18                        01/07              Contacto exitoso   \n24                   01/07/2019              Contacto exitoso   \n30                   01/07/2019              Contacto exitoso   \n...                         ...                           ...   \n35709                     03/01              Contacto exitoso   \n35715                03/01/2019              Contacto exitoso   \n35728                02/01/2018              Contacto exitoso   \n35730                03/01/2019              Contacto exitoso   \n35768                02/01/2019              Contacto exitoso   \n\n                      Descripción detallada del contacto  \\\n5      no logró comunicarse directamente, fue transfe...   \n9                         Reclama respuesta de siniestro   \n18                           Disconformidad precio (Sil)   \n24     Contactada la asegurada, se quejaba del trato ...   \n30     Se comunica al Auxilio y ni siquiera abrió el ...   \n...                                                  ...   \n35709  El cliente no puede juzgar el servicio  dado q...   \n35715  Cliente sumamente molesto ya al que al momento...   \n35728  Cliente manifiesta que le es caro el servicio,...   \n35730  Verifico si el correo electronico es correcto ...   \n35768         tuvo inconveniente con el seguro del hogar   \n\n      Fuiste capaz de resolver el inconveniente?  \\\n5                                             Sí   \n9                                             Sí   \n18                                            No   \n24                                           NaN   \n30                                           NaN   \n...                                          ...   \n35709                                         No   \n35715                                         Sí   \n35728                                         Sí   \n35730                                        NaN   \n35768                                         Sí   \n\n      El cliente se encontró satisfecho con el resultado?  \n5                                                     Sí   \n9                                                     Sí   \n18                                                    No   \n24                                                   NaN   \n30                                                   NaN   \n...                                                  ...   \n35709                                                 No   \n35715                                                 No   \n35728                                                 Sí   \n35730                                                NaN   \n35768                                                 Sí   \n\n[2131 rows x 11 columns]",
      "text/html": "<div>\n<style scoped>\n    .dataframe tbody tr th:only-of-type {\n        vertical-align: middle;\n    }\n\n    .dataframe tbody tr th {\n        vertical-align: top;\n    }\n\n    .dataframe thead th {\n        text-align: right;\n    }\n</style>\n<table border=\"1\" class=\"dataframe\">\n  <thead>\n    <tr style=\"text-align: right;\">\n      <th></th>\n      <th>Fecha de respuesta</th>\n      <th>id</th>\n      <th>Edad</th>\n      <th>Customer Value</th>\n      <th>Probabilidad de Recomendación</th>\n      <th>¿Por que?</th>\n      <th>Date of 1st Feedback Call</th>\n      <th>Resultado del Primer contacto</th>\n      <th>Descripción detallada del contacto</th>\n      <th>Fuiste capaz de resolver el inconveniente?</th>\n      <th>El cliente se encontró satisfecho con el resultado?</th>\n    </tr>\n  </thead>\n  <tbody>\n    <tr>\n      <th>5</th>\n      <td>6/30/19 21:19</td>\n      <td>6</td>\n      <td>56</td>\n      <td>2.0</td>\n      <td>5.0</td>\n      <td>Es alto el costo....he averiguado y una compañ...</td>\n      <td>01/07/2019</td>\n      <td>Contacto exitoso</td>\n      <td>no logró comunicarse directamente, fue transfe...</td>\n      <td>Sí</td>\n      <td>Sí</td>\n    </tr>\n    <tr>\n      <th>9</th>\n      <td>6/30/19 19:54</td>\n      <td>10</td>\n      <td>50</td>\n      <td>3.0</td>\n      <td>1.0</td>\n      <td>NO ME CUBRIERON ROTURA DE PARABRISA CUANDO LA ...</td>\n      <td>01/07</td>\n      <td>Contacto exitoso</td>\n      <td>Reclama respuesta de siniestro</td>\n      <td>Sí</td>\n      <td>Sí</td>\n    </tr>\n    <tr>\n      <th>18</th>\n      <td>6/30/19 12:46</td>\n      <td>19</td>\n      <td>59</td>\n      <td>2.0</td>\n      <td>6.0</td>\n      <td>Costos superiores al mercado</td>\n      <td>01/07</td>\n      <td>Contacto exitoso</td>\n      <td>Disconformidad precio (Sil)</td>\n      <td>No</td>\n      <td>No</td>\n    </tr>\n    <tr>\n      <th>24</th>\n      <td>6/30/19 10:42</td>\n      <td>25</td>\n      <td>54</td>\n      <td>2.0</td>\n      <td>0.0</td>\n      <td>la gente que atiende ante la denuncia de un si...</td>\n      <td>01/07/2019</td>\n      <td>Contacto exitoso</td>\n      <td>Contactada la asegurada, se quejaba del trato ...</td>\n      <td>NaN</td>\n      <td>NaN</td>\n    </tr>\n    <tr>\n      <th>30</th>\n      <td>6/29/19 23:32</td>\n      <td>30</td>\n      <td>64</td>\n      <td>1.0</td>\n      <td>3.0</td>\n      <td>No intentaron reparar el inconveniente en el a...</td>\n      <td>01/07/2019</td>\n      <td>Contacto exitoso</td>\n      <td>Se comunica al Auxilio y ni siquiera abrió el ...</td>\n      <td>NaN</td>\n      <td>NaN</td>\n    </tr>\n    <tr>\n      <th>...</th>\n      <td>...</td>\n      <td>...</td>\n      <td>...</td>\n      <td>...</td>\n      <td>...</td>\n      <td>...</td>\n      <td>...</td>\n      <td>...</td>\n      <td>...</td>\n      <td>...</td>\n      <td>...</td>\n    </tr>\n    <tr>\n      <th>35709</th>\n      <td>1/2/19 17:12</td>\n      <td>32132</td>\n      <td>30</td>\n      <td>2.0</td>\n      <td>5.0</td>\n      <td>No tuve que usar los servicios de La Caja aún</td>\n      <td>03/01</td>\n      <td>Contacto exitoso</td>\n      <td>El cliente no puede juzgar el servicio  dado q...</td>\n      <td>No</td>\n      <td>No</td>\n    </tr>\n    <tr>\n      <th>35715</th>\n      <td>1/2/19 16:13</td>\n      <td>32138</td>\n      <td>32</td>\n      <td>2.0</td>\n      <td>4.0</td>\n      <td>Me agregaron un seguro que me hicieron creer q...</td>\n      <td>03/01/2019</td>\n      <td>Contacto exitoso</td>\n      <td>Cliente sumamente molesto ya al que al momento...</td>\n      <td>Sí</td>\n      <td>No</td>\n    </tr>\n    <tr>\n      <th>35728</th>\n      <td>1/2/19 14:04</td>\n      <td>32149</td>\n      <td>65</td>\n      <td>2.0</td>\n      <td>6.0</td>\n      <td>Sería más alta si el costo del seguro fuera má...</td>\n      <td>02/01/2018</td>\n      <td>Contacto exitoso</td>\n      <td>Cliente manifiesta que le es caro el servicio,...</td>\n      <td>Sí</td>\n      <td>Sí</td>\n    </tr>\n    <tr>\n      <th>35730</th>\n      <td>1/2/19 13:26</td>\n      <td>22777</td>\n      <td>56</td>\n      <td>2.0</td>\n      <td>5.0</td>\n      <td>nunca me mandan la renovación de la polisa   y...</td>\n      <td>03/01/2019</td>\n      <td>Contacto exitoso</td>\n      <td>Verifico si el correo electronico es correcto ...</td>\n      <td>NaN</td>\n      <td>NaN</td>\n    </tr>\n    <tr>\n      <th>35768</th>\n      <td>1/2/19 10:04</td>\n      <td>32181</td>\n      <td>47</td>\n      <td>1.0</td>\n      <td>6.0</td>\n      <td>Como podrán advertir en encuestas anteriores, ...</td>\n      <td>02/01/2019</td>\n      <td>Contacto exitoso</td>\n      <td>tuvo inconveniente con el seguro del hogar</td>\n      <td>Sí</td>\n      <td>Sí</td>\n    </tr>\n  </tbody>\n</table>\n<p>2131 rows × 11 columns</p>\n</div>"
     },
     "execution_count": 118,
     "metadata": {},
     "output_type": "execute_result"
    }
   ],
   "source": [
    "df[df[\"Resultado del Primer contacto\"]==\"Contacto exitoso\"]"
   ],
   "metadata": {
    "collapsed": false,
    "pycharm": {
     "name": "#%%\n"
    }
   }
  },
  {
   "cell_type": "code",
   "execution_count": 99,
   "outputs": [
    {
     "data": {
      "text/plain": "2131"
     },
     "execution_count": 99,
     "metadata": {},
     "output_type": "execute_result"
    }
   ],
   "source": [
    "contestaron"
   ],
   "metadata": {
    "collapsed": false,
    "pycharm": {
     "name": "#%%\n"
    }
   }
  },
  {
   "cell_type": "code",
   "execution_count": 100,
   "outputs": [],
   "source": [
    "porcentaje_contestaron = contestaron*100/recibieron_llamado"
   ],
   "metadata": {
    "collapsed": false,
    "pycharm": {
     "name": "#%%\n"
    }
   }
  },
  {
   "cell_type": "code",
   "execution_count": 101,
   "outputs": [
    {
     "name": "stdout",
     "output_type": "stream",
     "text": [
      "49.18070620816986\n"
     ]
    }
   ],
   "source": [
    "print(porcentaje_contestaron)"
   ],
   "metadata": {
    "collapsed": false,
    "pycharm": {
     "name": "#%%\n"
    }
   }
  },
  {
   "cell_type": "code",
   "execution_count": 107,
   "outputs": [],
   "source": [
    "satisfechos = len(df[df[\"El cliente se encontró satisfecho con el resultado?\"] == \"Sí\"])"
   ],
   "metadata": {
    "collapsed": false,
    "pycharm": {
     "name": "#%%\n"
    }
   }
  },
  {
   "cell_type": "code",
   "execution_count": 117,
   "outputs": [
    {
     "data": {
      "text/plain": "      Fecha de respuesta     id Edad  Customer Value  \\\n5          6/30/19 21:19      6   56             2.0   \n6          6/30/19 20:53      7   33             2.0   \n9          6/30/19 19:54     10   50             3.0   \n16         6/30/19 14:47     17   52             2.0   \n38         6/29/19 20:15     37   44             1.0   \n...                  ...    ...  ...             ...   \n35657       1/3/19 10:42  32087   36             3.0   \n35673       1/3/19 10:37  32102   33             1.0   \n35689       1/2/19 23:09  32116   39             1.0   \n35728       1/2/19 14:04  32149   65             2.0   \n35768       1/2/19 10:04  32181   47             1.0   \n\n       Probabilidad de Recomendación  \\\n5                                5.0   \n6                                5.0   \n9                                1.0   \n16                               3.0   \n38                               0.0   \n...                              ...   \n35657                            3.0   \n35673                            0.0   \n35689                            5.0   \n35728                            6.0   \n35768                            6.0   \n\n                                               ¿Por que?  \\\n5      Es alto el costo....he averiguado y una compañ...   \n6        No me cubren el estero original que me robaron.   \n9      NO ME CUBRIERON ROTURA DE PARABRISA CUANDO LA ...   \n16     Nunca resolvieron mi reclamo. Todos me dan una...   \n38     cuatro veces me acerque a su oficina de adrogu...   \n...                                                  ...   \n35657  La razón es que no brindan un servicio complet...   \n35673       Desastre. Poca conexión entre un área y otra   \n35689                                Es muy cara la caja   \n35728  Sería más alta si el costo del seguro fuera má...   \n35768  Como podrán advertir en encuestas anteriores, ...   \n\n      Date of 1st Feedback Call                Resultado del Primer contacto  \\\n5                    01/07/2019                             Contacto exitoso   \n6                    01/07/2019                                Sin respuesta   \n9                         01/07                             Contacto exitoso   \n16                   01/07/2019  Contestador automático - no se dejo mensaje   \n38                   01/07/2019                             Contacto exitoso   \n...                         ...                                          ...   \n35657                03/01/2019                             Contacto exitoso   \n35673                03/01/2019                             Contacto exitoso   \n35689                     03-01                             Contacto exitoso   \n35728                02/01/2018                             Contacto exitoso   \n35768                02/01/2019                             Contacto exitoso   \n\n                      Descripción detallada del contacto  \\\n5      no logró comunicarse directamente, fue transfe...   \n6      El asegurado se manifiesta disconforme con la ...   \n9                         Reclama respuesta de siniestro   \n16                                                   NaN   \n38     Nos comunicamos al celular y atendió el esposo...   \n...                                                  ...   \n35657  Mejorar la atención que brindan al momento de ...   \n35673               tuvo problema con la emisión del okm   \n35689  Aseg molesto porque indica que hace mucho tiem...   \n35728  Cliente manifiesta que le es caro el servicio,...   \n35768         tuvo inconveniente con el seguro del hogar   \n\n      Fuiste capaz de resolver el inconveniente?  \\\n5                                             Sí   \n6                                             Sí   \n9                                             Sí   \n16                                            Sí   \n38                                            Sí   \n...                                          ...   \n35657                                         Sí   \n35673                                         Sí   \n35689                                         No   \n35728                                         Sí   \n35768                                         Sí   \n\n      El cliente se encontró satisfecho con el resultado?  \n5                                                     Sí   \n6                                                     Sí   \n9                                                     Sí   \n16                                                    Sí   \n38                                                    Sí   \n...                                                  ...   \n35657                                                 Sí   \n35673                                                 Sí   \n35689                                                 Sí   \n35728                                                 Sí   \n35768                                                 Sí   \n\n[1892 rows x 11 columns]",
      "text/html": "<div>\n<style scoped>\n    .dataframe tbody tr th:only-of-type {\n        vertical-align: middle;\n    }\n\n    .dataframe tbody tr th {\n        vertical-align: top;\n    }\n\n    .dataframe thead th {\n        text-align: right;\n    }\n</style>\n<table border=\"1\" class=\"dataframe\">\n  <thead>\n    <tr style=\"text-align: right;\">\n      <th></th>\n      <th>Fecha de respuesta</th>\n      <th>id</th>\n      <th>Edad</th>\n      <th>Customer Value</th>\n      <th>Probabilidad de Recomendación</th>\n      <th>¿Por que?</th>\n      <th>Date of 1st Feedback Call</th>\n      <th>Resultado del Primer contacto</th>\n      <th>Descripción detallada del contacto</th>\n      <th>Fuiste capaz de resolver el inconveniente?</th>\n      <th>El cliente se encontró satisfecho con el resultado?</th>\n    </tr>\n  </thead>\n  <tbody>\n    <tr>\n      <th>5</th>\n      <td>6/30/19 21:19</td>\n      <td>6</td>\n      <td>56</td>\n      <td>2.0</td>\n      <td>5.0</td>\n      <td>Es alto el costo....he averiguado y una compañ...</td>\n      <td>01/07/2019</td>\n      <td>Contacto exitoso</td>\n      <td>no logró comunicarse directamente, fue transfe...</td>\n      <td>Sí</td>\n      <td>Sí</td>\n    </tr>\n    <tr>\n      <th>6</th>\n      <td>6/30/19 20:53</td>\n      <td>7</td>\n      <td>33</td>\n      <td>2.0</td>\n      <td>5.0</td>\n      <td>No me cubren el estero original que me robaron.</td>\n      <td>01/07/2019</td>\n      <td>Sin respuesta</td>\n      <td>El asegurado se manifiesta disconforme con la ...</td>\n      <td>Sí</td>\n      <td>Sí</td>\n    </tr>\n    <tr>\n      <th>9</th>\n      <td>6/30/19 19:54</td>\n      <td>10</td>\n      <td>50</td>\n      <td>3.0</td>\n      <td>1.0</td>\n      <td>NO ME CUBRIERON ROTURA DE PARABRISA CUANDO LA ...</td>\n      <td>01/07</td>\n      <td>Contacto exitoso</td>\n      <td>Reclama respuesta de siniestro</td>\n      <td>Sí</td>\n      <td>Sí</td>\n    </tr>\n    <tr>\n      <th>16</th>\n      <td>6/30/19 14:47</td>\n      <td>17</td>\n      <td>52</td>\n      <td>2.0</td>\n      <td>3.0</td>\n      <td>Nunca resolvieron mi reclamo. Todos me dan una...</td>\n      <td>01/07/2019</td>\n      <td>Contestador automático - no se dejo mensaje</td>\n      <td>NaN</td>\n      <td>Sí</td>\n      <td>Sí</td>\n    </tr>\n    <tr>\n      <th>38</th>\n      <td>6/29/19 20:15</td>\n      <td>37</td>\n      <td>44</td>\n      <td>1.0</td>\n      <td>0.0</td>\n      <td>cuatro veces me acerque a su oficina de adrogu...</td>\n      <td>01/07/2019</td>\n      <td>Contacto exitoso</td>\n      <td>Nos comunicamos al celular y atendió el esposo...</td>\n      <td>Sí</td>\n      <td>Sí</td>\n    </tr>\n    <tr>\n      <th>...</th>\n      <td>...</td>\n      <td>...</td>\n      <td>...</td>\n      <td>...</td>\n      <td>...</td>\n      <td>...</td>\n      <td>...</td>\n      <td>...</td>\n      <td>...</td>\n      <td>...</td>\n      <td>...</td>\n    </tr>\n    <tr>\n      <th>35657</th>\n      <td>1/3/19 10:42</td>\n      <td>32087</td>\n      <td>36</td>\n      <td>3.0</td>\n      <td>3.0</td>\n      <td>La razón es que no brindan un servicio complet...</td>\n      <td>03/01/2019</td>\n      <td>Contacto exitoso</td>\n      <td>Mejorar la atención que brindan al momento de ...</td>\n      <td>Sí</td>\n      <td>Sí</td>\n    </tr>\n    <tr>\n      <th>35673</th>\n      <td>1/3/19 10:37</td>\n      <td>32102</td>\n      <td>33</td>\n      <td>1.0</td>\n      <td>0.0</td>\n      <td>Desastre. Poca conexión entre un área y otra</td>\n      <td>03/01/2019</td>\n      <td>Contacto exitoso</td>\n      <td>tuvo problema con la emisión del okm</td>\n      <td>Sí</td>\n      <td>Sí</td>\n    </tr>\n    <tr>\n      <th>35689</th>\n      <td>1/2/19 23:09</td>\n      <td>32116</td>\n      <td>39</td>\n      <td>1.0</td>\n      <td>5.0</td>\n      <td>Es muy cara la caja</td>\n      <td>03-01</td>\n      <td>Contacto exitoso</td>\n      <td>Aseg molesto porque indica que hace mucho tiem...</td>\n      <td>No</td>\n      <td>Sí</td>\n    </tr>\n    <tr>\n      <th>35728</th>\n      <td>1/2/19 14:04</td>\n      <td>32149</td>\n      <td>65</td>\n      <td>2.0</td>\n      <td>6.0</td>\n      <td>Sería más alta si el costo del seguro fuera má...</td>\n      <td>02/01/2018</td>\n      <td>Contacto exitoso</td>\n      <td>Cliente manifiesta que le es caro el servicio,...</td>\n      <td>Sí</td>\n      <td>Sí</td>\n    </tr>\n    <tr>\n      <th>35768</th>\n      <td>1/2/19 10:04</td>\n      <td>32181</td>\n      <td>47</td>\n      <td>1.0</td>\n      <td>6.0</td>\n      <td>Como podrán advertir en encuestas anteriores, ...</td>\n      <td>02/01/2019</td>\n      <td>Contacto exitoso</td>\n      <td>tuvo inconveniente con el seguro del hogar</td>\n      <td>Sí</td>\n      <td>Sí</td>\n    </tr>\n  </tbody>\n</table>\n<p>1892 rows × 11 columns</p>\n</div>"
     },
     "execution_count": 117,
     "metadata": {},
     "output_type": "execute_result"
    }
   ],
   "source": [
    "df[df[\"El cliente se encontró satisfecho con el resultado?\"] == \"Sí\"]"
   ],
   "metadata": {
    "collapsed": false,
    "pycharm": {
     "name": "#%%\n"
    }
   }
  },
  {
   "cell_type": "code",
   "execution_count": 108,
   "outputs": [
    {
     "data": {
      "text/plain": "1892"
     },
     "execution_count": 108,
     "metadata": {},
     "output_type": "execute_result"
    }
   ],
   "source": [
    "satisfechos"
   ],
   "metadata": {
    "collapsed": false,
    "pycharm": {
     "name": "#%%\n"
    }
   }
  },
  {
   "cell_type": "code",
   "execution_count": 110,
   "outputs": [
    {
     "data": {
      "text/plain": "88.78460816518067"
     },
     "execution_count": 110,
     "metadata": {},
     "output_type": "execute_result"
    }
   ],
   "source": [
    "satisfechos*100/contestaron"
   ],
   "metadata": {
    "collapsed": false,
    "pycharm": {
     "name": "#%%\n"
    }
   }
  },
  {
   "cell_type": "code",
   "execution_count": 111,
   "outputs": [],
   "source": [
    "insatisfechos = len(df[df[\"El cliente se encontró satisfecho con el resultado?\"] == \"No\"])"
   ],
   "metadata": {
    "collapsed": false,
    "pycharm": {
     "name": "#%%\n"
    }
   }
  },
  {
   "cell_type": "code",
   "execution_count": 114,
   "outputs": [
    {
     "data": {
      "text/plain": "      Fecha de respuesta     id Edad  Customer Value  \\\n18         6/30/19 12:46     19   59             2.0   \n75          6/29/19 9:29     70   47             3.0   \n252        6/28/19 11:01    246   49             2.0   \n326         6/28/19 8:03    320   37             2.0   \n338         6/28/19 0:09    332   31             2.0   \n...                  ...    ...  ...             ...   \n35715       1/2/19 16:13  32138   32             2.0   \n35753       1/2/19 11:00  32167   43             2.0   \n35760       1/2/19 10:44  32174   25             2.0   \n35795       1/1/19 18:49  32207   52             2.0   \n35822        1/1/19 3:40  32234   35             2.0   \n\n       Probabilidad de Recomendación  \\\n18                               6.0   \n75                               5.0   \n252                              2.0   \n326                              6.0   \n338                              0.0   \n...                              ...   \n35715                            4.0   \n35753                            0.0   \n35760                            4.0   \n35795                            1.0   \n35822                            4.0   \n\n                                               ¿Por que?  \\\n18                          Costos superiores al mercado   \n75             Poca información al pedir una explicación   \n252                                 Demora en el auxilio   \n326    Me debitaron 2 seguro q yo no contrate! Y sólo...   \n338    Tuve un siniestro y todavía estoy esperando a ...   \n...                                                  ...   \n35715  Me agregaron un seguro que me hicieron creer q...   \n35753  que el servicio fue burocratico, nunca llego, ...   \n35760  Muy mala.la.atencion telefónica.40 minutos par...   \n35795  No envian jamas la tarjeta de seguro , tuve q ...   \n35822  La falta de compromiso de parte del seguro por...   \n\n      Date of 1st Feedback Call Resultado del Primer contacto  \\\n18                        01/07              Contacto exitoso   \n75                   01/07/2019              Contacto exitoso   \n252                         NaN                           NaN   \n326                  28/06/2019                 Sin respuesta   \n338                  28/06/2019              Contacto exitoso   \n...                         ...                           ...   \n35715                03/01/2019              Contacto exitoso   \n35753                02/01/2019                 No contactado   \n35760                     03-01                 Sin respuesta   \n35795                02/01/2019                 No contactado   \n35822                02/01/2018                 No contactado   \n\n                      Descripción detallada del contacto  \\\n18                           Disconformidad precio (Sil)   \n75                                 por aumento de tarifa   \n252    Axicaja - Se cambio de Cia por la demora exces...   \n326    El cliente se encuenta muy molesto por el alta...   \n338    Por siniestro que denuncio por web y aun no lo...   \n...                                                  ...   \n35715  Cliente sumamente molesto ya al que al momento...   \n35753  no brindas mas datos que los brindado en la en...   \n35760  Aseg molesto por la demora en la atención tele...   \n35795                                                  -   \n35822  no es posible establecer contacto con la titul...   \n\n      Fuiste capaz de resolver el inconveniente?  \\\n18                                            No   \n75                                            No   \n252                                           No   \n326                                           No   \n338                                           No   \n...                                          ...   \n35715                                         Sí   \n35753                                         No   \n35760                                         No   \n35795                                         No   \n35822                                         No   \n\n      El cliente se encontró satisfecho con el resultado?  \n18                                                    No   \n75                                                    No   \n252                                                   No   \n326                                                   No   \n338                                                   No   \n...                                                  ...   \n35715                                                 No   \n35753                                                 No   \n35760                                                 No   \n35795                                                 No   \n35822                                                 No   \n\n[611 rows x 11 columns]",
      "text/html": "<div>\n<style scoped>\n    .dataframe tbody tr th:only-of-type {\n        vertical-align: middle;\n    }\n\n    .dataframe tbody tr th {\n        vertical-align: top;\n    }\n\n    .dataframe thead th {\n        text-align: right;\n    }\n</style>\n<table border=\"1\" class=\"dataframe\">\n  <thead>\n    <tr style=\"text-align: right;\">\n      <th></th>\n      <th>Fecha de respuesta</th>\n      <th>id</th>\n      <th>Edad</th>\n      <th>Customer Value</th>\n      <th>Probabilidad de Recomendación</th>\n      <th>¿Por que?</th>\n      <th>Date of 1st Feedback Call</th>\n      <th>Resultado del Primer contacto</th>\n      <th>Descripción detallada del contacto</th>\n      <th>Fuiste capaz de resolver el inconveniente?</th>\n      <th>El cliente se encontró satisfecho con el resultado?</th>\n    </tr>\n  </thead>\n  <tbody>\n    <tr>\n      <th>18</th>\n      <td>6/30/19 12:46</td>\n      <td>19</td>\n      <td>59</td>\n      <td>2.0</td>\n      <td>6.0</td>\n      <td>Costos superiores al mercado</td>\n      <td>01/07</td>\n      <td>Contacto exitoso</td>\n      <td>Disconformidad precio (Sil)</td>\n      <td>No</td>\n      <td>No</td>\n    </tr>\n    <tr>\n      <th>75</th>\n      <td>6/29/19 9:29</td>\n      <td>70</td>\n      <td>47</td>\n      <td>3.0</td>\n      <td>5.0</td>\n      <td>Poca información al pedir una explicación</td>\n      <td>01/07/2019</td>\n      <td>Contacto exitoso</td>\n      <td>por aumento de tarifa</td>\n      <td>No</td>\n      <td>No</td>\n    </tr>\n    <tr>\n      <th>252</th>\n      <td>6/28/19 11:01</td>\n      <td>246</td>\n      <td>49</td>\n      <td>2.0</td>\n      <td>2.0</td>\n      <td>Demora en el auxilio</td>\n      <td>NaN</td>\n      <td>NaN</td>\n      <td>Axicaja - Se cambio de Cia por la demora exces...</td>\n      <td>No</td>\n      <td>No</td>\n    </tr>\n    <tr>\n      <th>326</th>\n      <td>6/28/19 8:03</td>\n      <td>320</td>\n      <td>37</td>\n      <td>2.0</td>\n      <td>6.0</td>\n      <td>Me debitaron 2 seguro q yo no contrate! Y sólo...</td>\n      <td>28/06/2019</td>\n      <td>Sin respuesta</td>\n      <td>El cliente se encuenta muy molesto por el alta...</td>\n      <td>No</td>\n      <td>No</td>\n    </tr>\n    <tr>\n      <th>338</th>\n      <td>6/28/19 0:09</td>\n      <td>332</td>\n      <td>31</td>\n      <td>2.0</td>\n      <td>0.0</td>\n      <td>Tuve un siniestro y todavía estoy esperando a ...</td>\n      <td>28/06/2019</td>\n      <td>Contacto exitoso</td>\n      <td>Por siniestro que denuncio por web y aun no lo...</td>\n      <td>No</td>\n      <td>No</td>\n    </tr>\n    <tr>\n      <th>...</th>\n      <td>...</td>\n      <td>...</td>\n      <td>...</td>\n      <td>...</td>\n      <td>...</td>\n      <td>...</td>\n      <td>...</td>\n      <td>...</td>\n      <td>...</td>\n      <td>...</td>\n      <td>...</td>\n    </tr>\n    <tr>\n      <th>35715</th>\n      <td>1/2/19 16:13</td>\n      <td>32138</td>\n      <td>32</td>\n      <td>2.0</td>\n      <td>4.0</td>\n      <td>Me agregaron un seguro que me hicieron creer q...</td>\n      <td>03/01/2019</td>\n      <td>Contacto exitoso</td>\n      <td>Cliente sumamente molesto ya al que al momento...</td>\n      <td>Sí</td>\n      <td>No</td>\n    </tr>\n    <tr>\n      <th>35753</th>\n      <td>1/2/19 11:00</td>\n      <td>32167</td>\n      <td>43</td>\n      <td>2.0</td>\n      <td>0.0</td>\n      <td>que el servicio fue burocratico, nunca llego, ...</td>\n      <td>02/01/2019</td>\n      <td>No contactado</td>\n      <td>no brindas mas datos que los brindado en la en...</td>\n      <td>No</td>\n      <td>No</td>\n    </tr>\n    <tr>\n      <th>35760</th>\n      <td>1/2/19 10:44</td>\n      <td>32174</td>\n      <td>25</td>\n      <td>2.0</td>\n      <td>4.0</td>\n      <td>Muy mala.la.atencion telefónica.40 minutos par...</td>\n      <td>03-01</td>\n      <td>Sin respuesta</td>\n      <td>Aseg molesto por la demora en la atención tele...</td>\n      <td>No</td>\n      <td>No</td>\n    </tr>\n    <tr>\n      <th>35795</th>\n      <td>1/1/19 18:49</td>\n      <td>32207</td>\n      <td>52</td>\n      <td>2.0</td>\n      <td>1.0</td>\n      <td>No envian jamas la tarjeta de seguro , tuve q ...</td>\n      <td>02/01/2019</td>\n      <td>No contactado</td>\n      <td>-</td>\n      <td>No</td>\n      <td>No</td>\n    </tr>\n    <tr>\n      <th>35822</th>\n      <td>1/1/19 3:40</td>\n      <td>32234</td>\n      <td>35</td>\n      <td>2.0</td>\n      <td>4.0</td>\n      <td>La falta de compromiso de parte del seguro por...</td>\n      <td>02/01/2018</td>\n      <td>No contactado</td>\n      <td>no es posible establecer contacto con la titul...</td>\n      <td>No</td>\n      <td>No</td>\n    </tr>\n  </tbody>\n</table>\n<p>611 rows × 11 columns</p>\n</div>"
     },
     "execution_count": 114,
     "metadata": {},
     "output_type": "execute_result"
    }
   ],
   "source": [
    "df[df[\"El cliente se encontró satisfecho con el resultado?\"] == \"No\"]"
   ],
   "metadata": {
    "collapsed": false,
    "pycharm": {
     "name": "#%%\n"
    }
   }
  },
  {
   "cell_type": "code",
   "execution_count": 112,
   "outputs": [
    {
     "data": {
      "text/plain": "611"
     },
     "execution_count": 112,
     "metadata": {},
     "output_type": "execute_result"
    }
   ],
   "source": [
    "insatisfechos"
   ],
   "metadata": {
    "collapsed": false,
    "pycharm": {
     "name": "#%%\n"
    }
   }
  },
  {
   "cell_type": "code",
   "execution_count": 113,
   "outputs": [
    {
     "data": {
      "text/plain": "28.671984983575786"
     },
     "execution_count": 113,
     "metadata": {},
     "output_type": "execute_result"
    }
   ],
   "source": [
    "insatisfechos*100/contestaron"
   ],
   "metadata": {
    "collapsed": false,
    "pycharm": {
     "name": "#%%\n"
    }
   }
  },
  {
   "cell_type": "code",
   "execution_count": 55,
   "outputs": [],
   "source": [
    "resueltos = filtro[filtro[\"Fuiste capaz de resolver el inconveniente?\"] == \"Sí\"]"
   ],
   "metadata": {
    "collapsed": false,
    "pycharm": {
     "name": "#%%\n"
    }
   }
  },
  {
   "cell_type": "code",
   "execution_count": 54,
   "outputs": [
    {
     "data": {
      "text/plain": "41.8186014308793"
     },
     "execution_count": 54,
     "metadata": {},
     "output_type": "execute_result"
    }
   ],
   "source": [
    "len(resueltos)*100/len(df[\"Date of 1st Feedback Call\"].dropna())"
   ],
   "metadata": {
    "collapsed": false,
    "pycharm": {
     "name": "#%%\n"
    }
   }
  },
  {
   "cell_type": "code",
   "execution_count": 40,
   "outputs": [
    {
     "data": {
      "text/plain": "      Fecha de respuesta     id Edad  Customer Value  \\\n35753       1/2/19 11:00  32167   43             2.0   \n35760       1/2/19 10:44  32174   25             2.0   \n35768       1/2/19 10:04  32181   47             1.0   \n35795       1/1/19 18:49  32207   52             2.0   \n35822        1/1/19 3:40  32234   35             2.0   \n\n       Probabilidad de Recomendación  \\\n35753                            0.0   \n35760                            4.0   \n35768                            6.0   \n35795                            1.0   \n35822                            4.0   \n\n                                               ¿Por que?  \\\n35753  que el servicio fue burocratico, nunca llego, ...   \n35760  Muy mala.la.atencion telefónica.40 minutos par...   \n35768  Como podrán advertir en encuestas anteriores, ...   \n35795  No envian jamas la tarjeta de seguro , tuve q ...   \n35822  La falta de compromiso de parte del seguro por...   \n\n      Date of 1st Feedback Call Resultado del Primer contacto  \\\n35753                02/01/2019                 No contactado   \n35760                     03-01                 Sin respuesta   \n35768                02/01/2019              Contacto exitoso   \n35795                02/01/2019                 No contactado   \n35822                02/01/2018                 No contactado   \n\n                      Descripción detallada del contacto  \\\n35753  no brindas mas datos que los brindado en la en...   \n35760  Aseg molesto por la demora en la atención tele...   \n35768         tuvo inconveniente con el seguro del hogar   \n35795                                                  -   \n35822  no es posible establecer contacto con la titul...   \n\n      Fuiste capaz de resolver el inconveniente?  \\\n35753                                         No   \n35760                                         No   \n35768                                         Sí   \n35795                                         No   \n35822                                         No   \n\n      El cliente se encontró satisfecho con el resultado?  \n35753                                                 No   \n35760                                                 No   \n35768                                                 Sí   \n35795                                                 No   \n35822                                                 No   ",
      "text/html": "<div>\n<style scoped>\n    .dataframe tbody tr th:only-of-type {\n        vertical-align: middle;\n    }\n\n    .dataframe tbody tr th {\n        vertical-align: top;\n    }\n\n    .dataframe thead th {\n        text-align: right;\n    }\n</style>\n<table border=\"1\" class=\"dataframe\">\n  <thead>\n    <tr style=\"text-align: right;\">\n      <th></th>\n      <th>Fecha de respuesta</th>\n      <th>id</th>\n      <th>Edad</th>\n      <th>Customer Value</th>\n      <th>Probabilidad de Recomendación</th>\n      <th>¿Por que?</th>\n      <th>Date of 1st Feedback Call</th>\n      <th>Resultado del Primer contacto</th>\n      <th>Descripción detallada del contacto</th>\n      <th>Fuiste capaz de resolver el inconveniente?</th>\n      <th>El cliente se encontró satisfecho con el resultado?</th>\n    </tr>\n  </thead>\n  <tbody>\n    <tr>\n      <th>35753</th>\n      <td>1/2/19 11:00</td>\n      <td>32167</td>\n      <td>43</td>\n      <td>2.0</td>\n      <td>0.0</td>\n      <td>que el servicio fue burocratico, nunca llego, ...</td>\n      <td>02/01/2019</td>\n      <td>No contactado</td>\n      <td>no brindas mas datos que los brindado en la en...</td>\n      <td>No</td>\n      <td>No</td>\n    </tr>\n    <tr>\n      <th>35760</th>\n      <td>1/2/19 10:44</td>\n      <td>32174</td>\n      <td>25</td>\n      <td>2.0</td>\n      <td>4.0</td>\n      <td>Muy mala.la.atencion telefónica.40 minutos par...</td>\n      <td>03-01</td>\n      <td>Sin respuesta</td>\n      <td>Aseg molesto por la demora en la atención tele...</td>\n      <td>No</td>\n      <td>No</td>\n    </tr>\n    <tr>\n      <th>35768</th>\n      <td>1/2/19 10:04</td>\n      <td>32181</td>\n      <td>47</td>\n      <td>1.0</td>\n      <td>6.0</td>\n      <td>Como podrán advertir en encuestas anteriores, ...</td>\n      <td>02/01/2019</td>\n      <td>Contacto exitoso</td>\n      <td>tuvo inconveniente con el seguro del hogar</td>\n      <td>Sí</td>\n      <td>Sí</td>\n    </tr>\n    <tr>\n      <th>35795</th>\n      <td>1/1/19 18:49</td>\n      <td>32207</td>\n      <td>52</td>\n      <td>2.0</td>\n      <td>1.0</td>\n      <td>No envian jamas la tarjeta de seguro , tuve q ...</td>\n      <td>02/01/2019</td>\n      <td>No contactado</td>\n      <td>-</td>\n      <td>No</td>\n      <td>No</td>\n    </tr>\n    <tr>\n      <th>35822</th>\n      <td>1/1/19 3:40</td>\n      <td>32234</td>\n      <td>35</td>\n      <td>2.0</td>\n      <td>4.0</td>\n      <td>La falta de compromiso de parte del seguro por...</td>\n      <td>02/01/2018</td>\n      <td>No contactado</td>\n      <td>no es posible establecer contacto con la titul...</td>\n      <td>No</td>\n      <td>No</td>\n    </tr>\n  </tbody>\n</table>\n</div>"
     },
     "execution_count": 40,
     "metadata": {},
     "output_type": "execute_result"
    }
   ],
   "source": [
    "filtro.tail()"
   ],
   "metadata": {
    "collapsed": false,
    "pycharm": {
     "name": "#%%\n"
    }
   }
  },
  {
   "cell_type": "code",
   "execution_count": 53,
   "outputs": [
    {
     "data": {
      "text/plain": "4333"
     },
     "execution_count": 53,
     "metadata": {},
     "output_type": "execute_result"
    }
   ],
   "source": [
    "len(df[\"Date of 1st Feedback Call\"].dropna())"
   ],
   "metadata": {
    "collapsed": false,
    "pycharm": {
     "name": "#%%\n"
    }
   }
  },
  {
   "cell_type": "code",
   "execution_count": 79,
   "outputs": [
    {
     "data": {
      "text/plain": "8.34316788152262"
     },
     "execution_count": 79,
     "metadata": {},
     "output_type": "execute_result"
    }
   ],
   "source": [
    "df[\"Probabilidad de Recomendación\"].mean()"
   ],
   "metadata": {
    "collapsed": false,
    "pycharm": {
     "name": "#%%\n"
    }
   }
  },
  {
   "cell_type": "code",
   "execution_count": 80,
   "outputs": [
    {
     "data": {
      "text/plain": "3.072630283135002"
     },
     "execution_count": 80,
     "metadata": {},
     "output_type": "execute_result"
    }
   ],
   "source": [
    "filtro[\"Probabilidad de Recomendación\"].mean()"
   ],
   "metadata": {
    "collapsed": false,
    "pycharm": {
     "name": "#%%\n"
    }
   }
  },
  {
   "cell_type": "code",
   "execution_count": 82,
   "outputs": [
    {
     "data": {
      "text/plain": "       Customer Value  Probabilidad de Recomendación\ncount    34572.000000                   34572.000000\nmean         1.669154                       8.343168\nstd          0.500839                       2.476786\nmin          1.000000                       0.000000\n25%          1.000000                       8.000000\n50%          2.000000                       9.000000\n75%          2.000000                      10.000000\nmax          3.000000                      10.000000",
      "text/html": "<div>\n<style scoped>\n    .dataframe tbody tr th:only-of-type {\n        vertical-align: middle;\n    }\n\n    .dataframe tbody tr th {\n        vertical-align: top;\n    }\n\n    .dataframe thead th {\n        text-align: right;\n    }\n</style>\n<table border=\"1\" class=\"dataframe\">\n  <thead>\n    <tr style=\"text-align: right;\">\n      <th></th>\n      <th>Customer Value</th>\n      <th>Probabilidad de Recomendación</th>\n    </tr>\n  </thead>\n  <tbody>\n    <tr>\n      <th>count</th>\n      <td>34572.000000</td>\n      <td>34572.000000</td>\n    </tr>\n    <tr>\n      <th>mean</th>\n      <td>1.669154</td>\n      <td>8.343168</td>\n    </tr>\n    <tr>\n      <th>std</th>\n      <td>0.500839</td>\n      <td>2.476786</td>\n    </tr>\n    <tr>\n      <th>min</th>\n      <td>1.000000</td>\n      <td>0.000000</td>\n    </tr>\n    <tr>\n      <th>25%</th>\n      <td>1.000000</td>\n      <td>8.000000</td>\n    </tr>\n    <tr>\n      <th>50%</th>\n      <td>2.000000</td>\n      <td>9.000000</td>\n    </tr>\n    <tr>\n      <th>75%</th>\n      <td>2.000000</td>\n      <td>10.000000</td>\n    </tr>\n    <tr>\n      <th>max</th>\n      <td>3.000000</td>\n      <td>10.000000</td>\n    </tr>\n  </tbody>\n</table>\n</div>"
     },
     "execution_count": 82,
     "metadata": {},
     "output_type": "execute_result"
    }
   ],
   "source": [
    "df.describe()"
   ],
   "metadata": {
    "collapsed": false,
    "pycharm": {
     "name": "#%%\n"
    }
   }
  },
  {
   "cell_type": "code",
   "execution_count": 84,
   "outputs": [
    {
     "name": "stdout",
     "output_type": "stream",
     "text": [
      "<class 'pandas.core.series.Series'>\n",
      "RangeIndex: 35826 entries, 0 to 35825\n",
      "Series name: Edad\n",
      "Non-Null Count  Dtype \n",
      "--------------  ----- \n",
      "35015 non-null  object\n",
      "dtypes: object(1)\n",
      "memory usage: 280.0+ KB\n"
     ]
    }
   ],
   "source": [
    "df[\"Edad\"].info()"
   ],
   "metadata": {
    "collapsed": false,
    "pycharm": {
     "name": "#%%\n"
    }
   }
  },
  {
   "cell_type": "code",
   "execution_count": null,
   "outputs": [],
   "source": [],
   "metadata": {
    "collapsed": false,
    "pycharm": {
     "name": "#%%\n"
    }
   }
  }
 ],
 "metadata": {
  "kernelspec": {
   "display_name": "Python 3",
   "language": "python",
   "name": "python3"
  },
  "language_info": {
   "codemirror_mode": {
    "name": "ipython",
    "version": 2
   },
   "file_extension": ".py",
   "mimetype": "text/x-python",
   "name": "python",
   "nbconvert_exporter": "python",
   "pygments_lexer": "ipython2",
   "version": "2.7.6"
  }
 },
 "nbformat": 4,
 "nbformat_minor": 0
}